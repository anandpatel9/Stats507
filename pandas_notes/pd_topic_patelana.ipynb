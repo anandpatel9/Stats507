{
 "cells": [
  {
   "cell_type": "markdown",
   "metadata": {},
   "source": [
    "## Pandas Topic ##\n",
    "\n",
    "### pd. query ##\n",
    "\n",
    "###### Name: Anandkumar Patel\n",
    "###### Email: patelana@umich.edu\n",
    "###### Unique ID: patelana"
   ]
  },
  {
   "cell_type": "markdown",
   "metadata": {},
   "source": [
    "### Arguments and Output\n",
    "\n",
    "**Arguments** \n",
    "\n",
    "* expression (expr) \n",
    "* inplace (default = False) \n",
    "    * Do you want to operate directly on the dataframe or create new one\n",
    "* kwargs (keyword arguments)\n",
    "\n",
    "**Returns** \n",
    "* Dataframe from provided query"
   ]
  },
  {
   "cell_type": "markdown",
   "metadata": {},
   "source": [
    "## Why\n",
    "\n",
    "* Similar to an SQL query \n",
    "* Can help you filter data by querying\n",
    "* Returns a subset of the DataFrame\n",
    "* loc and iloc can be used to query either rows or columns"
   ]
  },
  {
   "cell_type": "markdown",
   "metadata": {},
   "source": [
    "## Query Syntax\n",
    "\n",
    "* yourdataframe.query(expression, inplace = True/False"
   ]
  },
  {
   "cell_type": "markdown",
   "metadata": {},
   "source": [
    "## Code Example"
   ]
  },
  {
   "cell_type": "code",
   "execution_count": 2,
   "metadata": {},
   "outputs": [
    {
     "name": "stdout",
     "output_type": "stream",
     "text": [
      "   A   B  C C\n",
      "0  1  10   10\n",
      "1  2   8    9\n",
      "2  3   6    8\n",
      "3  4   4    7\n",
      "4  5   2    6\n",
      "Below is the results of the query\n",
      "   A  B  C C\n",
      "4  5  2    6\n"
     ]
    }
   ],
   "source": [
    "import pandas as pd\n",
    "df = pd.DataFrame({'A': range(1, 6),\n",
    "                   'B': range(10, 0, -2),\n",
    "                   'C C': range(10, 5, -1)})\n",
    "print(df)\n",
    "\n",
    "print('Below is the results of the query')\n",
    "\n",
    "print(df.query('A > B'))"
   ]
  }
 ],
 "metadata": {
  "kernelspec": {
   "display_name": "Python 3",
   "language": "python",
   "name": "python3"
  },
  "language_info": {
   "codemirror_mode": {
    "name": "ipython",
    "version": 3
   },
   "file_extension": ".py",
   "mimetype": "text/x-python",
   "name": "python",
   "nbconvert_exporter": "python",
   "pygments_lexer": "ipython3",
   "version": "3.7.6"
  }
 },
 "nbformat": 4,
 "nbformat_minor": 4
}
